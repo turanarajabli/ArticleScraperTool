{
  "nbformat": 4,
  "nbformat_minor": 0,
  "metadata": {
    "colab": {
      "provenance": []
    },
    "kernelspec": {
      "name": "python3",
      "display_name": "Python 3"
    },
    "language_info": {
      "name": "python"
    }
  },
  "cells": [
    {
      "cell_type": "code",
      "execution_count": null,
      "metadata": {
        "id": "dNnB1qn1myEF"
      },
      "outputs": [],
      "source": [
        "import os\n",
        "import requests\n",
        "import re\n",
        "from bs4 import BeautifulSoup\n",
        "from google.colab import files"
      ]
    },
    {
      "cell_type": "code",
      "source": [
        "def fetch_webpage():\n",
        "    url = \"https://medium.com/@subashgandyer/papa-what-is-a-neural-network-c5e5cc427c7\"  # URL is hardcoded\n",
        "    response = requests.get(url)\n",
        "    response.raise_for_status()  # Raise an error if the request was unsuccessful\n",
        "    soup = BeautifulSoup(response.text, 'html.parser')\n",
        "    return soup"
      ],
      "metadata": {
        "id": "EwkFsBwOnv2o"
      },
      "execution_count": null,
      "outputs": []
    },
    {
      "cell_type": "markdown",
      "source": [
        "# Function to clean up HTML tags and format text accordingly"
      ],
      "metadata": {
        "id": "dyAJMBovoC2A"
      }
    },
    {
      "cell_type": "code",
      "source": [
        "def clean_html_content(text):\n",
        "    # Dictionary for replacing HTML tags with proper formatting\n",
        "    replacements = {\"<br>\": \"\\n\", \"<br/>\": \"\\n\", \"<li>\": \"\\n\"}\n",
        "    replacements = dict((re.escape(key), value) for key, value in replacements.items())\n",
        "    pattern = re.compile(\"|\".join(replacements.keys()))\n",
        "    text = pattern.sub(lambda match: replacements[re.escape(match.group(0))], text)\n",
        "    cleaned_text = re.sub(r'<.*?>', '', text)  # Remove remaining HTML tags\n",
        "    return cleaned_text"
      ],
      "metadata": {
        "id": "Kvt2HAxgoEKR"
      },
      "execution_count": null,
      "outputs": []
    },
    {
      "cell_type": "markdown",
      "source": [
        "# Extracts all paragraph text"
      ],
      "metadata": {
        "id": "5NGfNS9voNLE"
      }
    },
    {
      "cell_type": "code",
      "source": [
        "def extract_page_content(soup, url):\n",
        "    content = f'URL: {url}\\n\\n'\n",
        "    paragraphs = soup.find_all('p')  # Find all paragraph tags\n",
        "    for para in paragraphs:\n",
        "        content += f\"{para.text}\\n\\n\"\n",
        "    return content"
      ],
      "metadata": {
        "id": "Btf6pm6ooRjM"
      },
      "execution_count": null,
      "outputs": []
    },
    {
      "cell_type": "markdown",
      "source": [
        "# Save the extracted text into a file and download it"
      ],
      "metadata": {
        "id": "buwN-P2coWPY"
      }
    },
    {
      "cell_type": "code",
      "source": [
        "def save_and_download(text, url):\n",
        "    if not os.path.exists('./scraped_data'):\n",
        "        os.mkdir('./scraped_data')\n",
        "    filename = url.split(\"/\")[-1]\n",
        "    filepath = f'scraped_data/{filename}.txt'\n",
        "\n",
        "\n",
        "    with open(filepath, 'w', encoding='utf-8') as file:\n",
        "        file.write(text)\n",
        "\n",
        "    print(f'Text saved in {filepath}')\n",
        "\n",
        "\n",
        "    files.download(filepath)\n"
      ],
      "metadata": {
        "id": "GPI2Tbw9pZJa"
      },
      "execution_count": null,
      "outputs": []
    },
    {
      "cell_type": "code",
      "source": [
        "if __name__ == '__main__':\n",
        "    url = \"https://medium.com/@subashgandyer/papa-what-is-a-neural-network-c5e5cc427c7\"\n",
        "    soup = fetch_webpage()\n",
        "    if soup:\n",
        "        page_text = extract_page_content(soup, url)\n",
        "        save_and_download(page_text, url)  # Save the text and trigger download"
      ],
      "metadata": {
        "colab": {
          "base_uri": "https://localhost:8080/",
          "height": 35
        },
        "id": "uwozoODgprlm",
        "outputId": "bed3f991-d8aa-4e45-d438-563903cfd8f4"
      },
      "execution_count": null,
      "outputs": [
        {
          "output_type": "stream",
          "name": "stdout",
          "text": [
            "Text saved in scraped_data/papa-what-is-a-neural-network-c5e5cc427c7.txt\n"
          ]
        },
        {
          "output_type": "display_data",
          "data": {
            "text/plain": [
              "<IPython.core.display.Javascript object>"
            ],
            "application/javascript": [
              "\n",
              "    async function download(id, filename, size) {\n",
              "      if (!google.colab.kernel.accessAllowed) {\n",
              "        return;\n",
              "      }\n",
              "      const div = document.createElement('div');\n",
              "      const label = document.createElement('label');\n",
              "      label.textContent = `Downloading \"${filename}\": `;\n",
              "      div.appendChild(label);\n",
              "      const progress = document.createElement('progress');\n",
              "      progress.max = size;\n",
              "      div.appendChild(progress);\n",
              "      document.body.appendChild(div);\n",
              "\n",
              "      const buffers = [];\n",
              "      let downloaded = 0;\n",
              "\n",
              "      const channel = await google.colab.kernel.comms.open(id);\n",
              "      // Send a message to notify the kernel that we're ready.\n",
              "      channel.send({})\n",
              "\n",
              "      for await (const message of channel.messages) {\n",
              "        // Send a message to notify the kernel that we're ready.\n",
              "        channel.send({})\n",
              "        if (message.buffers) {\n",
              "          for (const buffer of message.buffers) {\n",
              "            buffers.push(buffer);\n",
              "            downloaded += buffer.byteLength;\n",
              "            progress.value = downloaded;\n",
              "          }\n",
              "        }\n",
              "      }\n",
              "      const blob = new Blob(buffers, {type: 'application/binary'});\n",
              "      const a = document.createElement('a');\n",
              "      a.href = window.URL.createObjectURL(blob);\n",
              "      a.download = filename;\n",
              "      div.appendChild(a);\n",
              "      a.click();\n",
              "      div.remove();\n",
              "    }\n",
              "  "
            ]
          },
          "metadata": {}
        },
        {
          "output_type": "display_data",
          "data": {
            "text/plain": [
              "<IPython.core.display.Javascript object>"
            ],
            "application/javascript": [
              "download(\"download_45f8c729-8cfd-4af4-83d4-6f3e373eda69\", \"papa-what-is-a-neural-network-c5e5cc427c7.txt\", 13075)"
            ]
          },
          "metadata": {}
        }
      ]
    }
  ]
}